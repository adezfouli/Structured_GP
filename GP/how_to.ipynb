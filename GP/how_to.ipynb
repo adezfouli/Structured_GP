{
 "worksheets": [
  {
   "cells": [
    {
     "cell_type": "markdown",
     "metadata": {},
     "source": [
      "The main file that should be run is 'experiment_run.py'. Sparsity of the model can be controlled using the following line in the code:"
     ]
    },
    {
     "cell_type": "code",
     "metadata": {},
     "outputs": [],
     "input": [
      "Experiments.struct_data({'method': 'structured', 'sparse_factor': 1.0, 'run_id': 1, 'log_level': logging.DEBUG})"
     ],
     "language": "python"
    },
    {
     "cell_type": "markdown",
     "metadata": {},
     "source": [
      "Inside 'Experiments.struct_data' method parameters like kernel hyper-parameters, optimisation parameters can be conrolled. For example for changing kernel hyper-parameters following line should be adjusted:"
     ]
    },
    {
     "cell_type": "code",
     "metadata": {},
     "outputs": [],
     "input": [
      "kernel = [Linear(Xtrain.shape[1], ARD=False, variances=0.001) for j in range(num_latent_proc)]"
     ],
     "language": "python"
    },
    {
     "cell_type": "markdown",
     "metadata": {},
     "source": [
      "and for changing the number of iteration of opimisation of MoG parameters (mog) in the following line, the number '60' should be adjusted:"
     ]
    },
    {
     "cell_type": "code",
     "metadata": {},
     "outputs": [],
     "input": [
      "opt_per_iter={'mog': 60},"
     ],
     "language": "python"
    },
    {
     "cell_type": "markdown",
     "metadata": {},
     "source": [
      "After the optimisation of the model finished the code strated to make predictions automatically and the resutls are saved in a folder called 'results' which is one level higher than the code folder. For example if the code is in 'ML/GP' folder, the results will be in 'ML/results'. For each run a seperate folder inside the 'results' folder will be created which contains the predictions and some other files regarding the model. The predictions are in a CSV file which contrains a row for each test data ponts.\n",
      "\n",
      "The predictions can be visiaulised by plotting the generated folder. For example after the running the experiments fiinishe the following line can be uncommneted in the 'experiment_run' foler to visiualise the results:"
     ]
    },
    {
     "cell_type": "code",
     "metadata": {},
     "outputs": [],
     "input": [
      "ExperimentRunner.plot()"
     ],
     "language": "python"
    },
    {
     "cell_type": "markdown",
     "metadata": {},
     "source": [
      "Make sure to comment the line related to the optimisaion of the model:"
     ]
    },
    {
     "cell_type": "code",
     "metadata": {},
     "outputs": [],
     "input": [
      "#ExperimentRunner.struct_experiment()"
     ],
     "language": "python"
    },
    {
     "cell_type": "markdown",
     "metadata": {},
     "source": [
      "The main class which implements the general model is SAVIGP.py. The other important class is 'structured_gp.py' which implements some specific functions regarding Structured GPs. The class exposes 'set_params' and 'get_params' to the optimiser. At each 'set_param' the model updaes the objective function (ELL + CROSS + ENTOPY) and also its gradient wtr to different parameters of interest.\n",
      "\n",
      "The model can be configured to use only for example 'ELL' (expected log-likelihood) in the calculation of objective fuction. For example the following line in the code checks whether CROSS (cross entropy) is in the configuration of the model, in which case the effect of this terms is added to the objective fuction and gradients. This way of configuring the model seemed important to be able to test each terms of objective fucntion separately.\n",
      "  "
     ]
    },
    {
     "cell_type": "code",
     "metadata": {},
     "outputs": [],
     "input": [
      "if Configuration.CROSS in self.config_list or (self.cached_cross is None):\n",
      "    xcross, xdcorss_dpi = self._cross_dcorss_dpi(0)\n",
      "    self.cached_cross = xcross\n",
      "    if Configuration.MoG in self.config_list:\n",
      "        grad_m += self._dcorss_dm()\n",
      "        grad_s += self.transform_dcorss_dS()\n",
      "        grad_pi += xdcorss_dpi\n",
      "    if Configuration.HYPER in self.config_list:\n",
      "        grad_hyper += self._dcross_dhyper()"
     ],
     "language": "python"
    },
    {
     "cell_type": "markdown",
     "metadata": {},
     "source": [
      "The number of training and test points can be determined in file 'gpstruct_wrapper.py'.\n",
      "\n"
     ]
    }
   ]
  }
 ],
 "cells": [],
 "metadata": {},
 "nbformat": 3,
 "nbformat_minor": 0
}